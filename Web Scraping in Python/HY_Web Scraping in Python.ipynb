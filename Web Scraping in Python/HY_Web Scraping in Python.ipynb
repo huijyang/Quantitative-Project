{
 "cells": [
  {
   "cell_type": "code",
   "execution_count": 3,
   "metadata": {
    "colab": {
     "base_uri": "https://localhost:8080/"
    },
    "executionInfo": {
     "elapsed": 18619,
     "status": "ok",
     "timestamp": 1700234043445,
     "user": {
      "displayName": "Huijing Yang",
      "userId": "04973591626880246182"
     },
     "user_tz": 300
    },
    "id": "HPoTYPW7lIbK",
    "outputId": "5e8bf978-99c6-43b7-e8ca-83b0e64cf4f4"
   },
   "outputs": [
    {
     "name": "stdout",
     "output_type": "stream",
     "text": [
      "Mounted at /content/drive\n"
     ]
    }
   ],
   "source": [
    "from google.colab import drive\n",
    "from google.colab import files\n",
    "drive.mount('/content/drive')"
   ]
  },
  {
   "cell_type": "code",
   "execution_count": 6,
   "metadata": {
    "executionInfo": {
     "elapsed": 542,
     "status": "ok",
     "timestamp": 1700234081148,
     "user": {
      "displayName": "Huijing Yang",
      "userId": "04973591626880246182"
     },
     "user_tz": 300
    },
    "id": "VD9ATICjo6IF"
   },
   "outputs": [],
   "source": [
    "import re\n",
    "import time\n",
    "from bs4 import BeautifulSoup\n",
    "import mechanicalsoup\n",
    "from urllib.request import urlopen\n",
    "import requests\n",
    "import pandas as pd\n",
    "import sqlite3"
   ]
  },
  {
   "cell_type": "markdown",
   "metadata": {
    "id": "COV7wbuwQNFs"
   },
   "source": [
    "# Part I: FT1000: Europe's Fastest Growing Companies 2023"
   ]
  },
  {
   "cell_type": "markdown",
   "metadata": {
    "id": "7XmzzYX5oUUW"
   },
   "source": [
    "The ranking lists those European companies that achieved the highest compound annual growth rate in revenue between 2018 and 2021."
   ]
  },
  {
   "cell_type": "code",
   "execution_count": 5,
   "metadata": {
    "executionInfo": {
     "elapsed": 1988,
     "status": "ok",
     "timestamp": 1700193391930,
     "user": {
      "displayName": "Huijing Yang",
      "userId": "04973591626880246182"
     },
     "user_tz": 300
    },
    "id": "gKp04URh_bGl"
   },
   "outputs": [],
   "source": [
    "url = \"https://www.ft.com/ft1000-2023\"\n",
    "page = urlopen(url)\n",
    "html = page.read().decode(\"utf-8\")"
   ]
  },
  {
   "cell_type": "code",
   "execution_count": 6,
   "metadata": {
    "executionInfo": {
     "elapsed": 3,
     "status": "ok",
     "timestamp": 1700193391931,
     "user": {
      "displayName": "Huijing Yang",
      "userId": "04973591626880246182"
     },
     "user_tz": 300
    },
    "id": "lY8lpj8CpogB"
   },
   "outputs": [],
   "source": [
    "soup = BeautifulSoup(html, \"html.parser\")"
   ]
  },
  {
   "cell_type": "code",
   "execution_count": 7,
   "metadata": {
    "colab": {
     "base_uri": "https://localhost:8080/",
     "height": 35
    },
    "executionInfo": {
     "elapsed": 156,
     "status": "ok",
     "timestamp": 1700193392235,
     "user": {
      "displayName": "Huijing Yang",
      "userId": "04973591626880246182"
     },
     "user_tz": 300
    },
    "id": "x7I4Ph53pp01",
    "outputId": "8ab0a855-0d72-42ac-cbc6-7eadd7efa759"
   },
   "outputs": [
    {
     "data": {
      "application/vnd.google.colaboratory.intrinsic+json": {
       "type": "string"
      },
      "text/plain": [
       "'FT 1000: the seventh annual ranking of Europe’s fastest-growing companies'"
      ]
     },
     "execution_count": 7,
     "metadata": {},
     "output_type": "execute_result"
    }
   ],
   "source": [
    "soup.title.string"
   ]
  },
  {
   "cell_type": "markdown",
   "metadata": {
    "id": "ITgmJZr_CfO5"
   },
   "source": [
    "The `<th>` HTML element defines a cell as the header of a group of table cells."
   ]
  },
  {
   "cell_type": "code",
   "execution_count": 8,
   "metadata": {
    "colab": {
     "base_uri": "https://localhost:8080/"
    },
    "executionInfo": {
     "elapsed": 5,
     "status": "ok",
     "timestamp": 1700193403597,
     "user": {
      "displayName": "Huijing Yang",
      "userId": "04973591626880246182"
     },
     "user_tz": 300
    },
    "id": "HEw_qYd0D64o",
    "outputId": "800eb989-d399-480d-8e7f-29e77616c5c0"
   },
   "outputs": [
    {
     "name": "stdout",
     "output_type": "stream",
     "text": [
      "['Rank', 'Name', 'in 2022 ranking', 'in 2021 ranking', 'Country', 'Sector', 'Absolute Growth Rate %', 'Compound Annual Growth Rate (CAGR) %', 'Revenue 2021 (€)', 'Revenue 2018 (€)', 'Number of employees 2021', 'Number of employees 2018', 'Founding Year']\n"
     ]
    }
   ],
   "source": [
    "# column names\n",
    "headers = soup.find_all(\"th\")\n",
    "header_col = []\n",
    "for i in range(len(headers)):\n",
    "    header_col.append(headers[i].string)\n",
    "print(header_col)"
   ]
  },
  {
   "cell_type": "markdown",
   "metadata": {
    "id": "cUy2fDDYI0Zh"
   },
   "source": [
    "The `<td>` HTML element defines a cell of a table that contains data. It participates in the table model.\n",
    "\n",
    "The `<tr>` HTML element defines a row of cells in a table. The row's cells can then be established using a mix of `<td>` (data cell) and `<th>` (header cell) elements."
   ]
  },
  {
   "cell_type": "code",
   "execution_count": 9,
   "metadata": {
    "executionInfo": {
     "elapsed": 119,
     "status": "ok",
     "timestamp": 1700193408344,
     "user": {
      "displayName": "Huijing Yang",
      "userId": "04973591626880246182"
     },
     "user_tz": 300
    },
    "id": "aSkaTXxILTnT"
   },
   "outputs": [],
   "source": [
    "df_ft1000 = pd.DataFrame(columns=header_col, index=pd.RangeIndex(start=0, stop=1000, step=1))"
   ]
  },
  {
   "cell_type": "code",
   "execution_count": 10,
   "metadata": {
    "executionInfo": {
     "elapsed": 1710,
     "status": "ok",
     "timestamp": 1700193411865,
     "user": {
      "displayName": "Huijing Yang",
      "userId": "04973591626880246182"
     },
     "user_tz": 300
    },
    "id": "m6-PudKWFYmb"
   },
   "outputs": [],
   "source": [
    "companies = soup.find_all(\"tr\")\n",
    "for i in range(1,len(companies)-1):\n",
    "    for j in range(len(headers)):\n",
    "        cell_value = companies[i].find_all(\"td\")[j].string\n",
    "        df_ft1000.iloc[i-1, j] = cell_value\n",
    "# print(df_ft1000)"
   ]
  },
  {
   "cell_type": "code",
   "execution_count": 11,
   "metadata": {
    "colab": {
     "base_uri": "https://localhost:8080/",
     "height": 721
    },
    "executionInfo": {
     "elapsed": 5,
     "status": "ok",
     "timestamp": 1700193412524,
     "user": {
      "displayName": "Huijing Yang",
      "userId": "04973591626880246182"
     },
     "user_tz": 300
    },
    "id": "l8nqcRqXMh_g",
    "outputId": "9e3e0397-dfd0-47da-cb72-d5b1925f9253"
   },
   "outputs": [
    {
     "data": {
      "text/html": [
       "\n",
       "  <div id=\"df-121bf68a-69b9-4248-be18-353399ba7887\" class=\"colab-df-container\">\n",
       "    <div>\n",
       "<style scoped>\n",
       "    .dataframe tbody tr th:only-of-type {\n",
       "        vertical-align: middle;\n",
       "    }\n",
       "\n",
       "    .dataframe tbody tr th {\n",
       "        vertical-align: top;\n",
       "    }\n",
       "\n",
       "    .dataframe thead th {\n",
       "        text-align: right;\n",
       "    }\n",
       "</style>\n",
       "<table border=\"1\" class=\"dataframe\">\n",
       "  <thead>\n",
       "    <tr style=\"text-align: right;\">\n",
       "      <th></th>\n",
       "      <th>Rank</th>\n",
       "      <th>Name</th>\n",
       "      <th>in 2022 ranking</th>\n",
       "      <th>in 2021 ranking</th>\n",
       "      <th>Country</th>\n",
       "      <th>Sector</th>\n",
       "      <th>Absolute Growth Rate %</th>\n",
       "      <th>Compound Annual Growth Rate (CAGR) %</th>\n",
       "      <th>Revenue 2021 (€)</th>\n",
       "      <th>Revenue 2018 (€)</th>\n",
       "      <th>Number of employees 2021</th>\n",
       "      <th>Number of employees 2018</th>\n",
       "      <th>Founding Year</th>\n",
       "    </tr>\n",
       "  </thead>\n",
       "  <tbody>\n",
       "    <tr>\n",
       "      <th>0</th>\n",
       "      <td>1</td>\n",
       "      <td>Tripledot Studios</td>\n",
       "      <td>No</td>\n",
       "      <td>No</td>\n",
       "      <td>UK</td>\n",
       "      <td>Leisure &amp; Entertainment</td>\n",
       "      <td>71,507.8</td>\n",
       "      <td>794.7</td>\n",
       "      <td>83,062,822</td>\n",
       "      <td>115,197</td>\n",
       "      <td>172</td>\n",
       "      <td>18</td>\n",
       "      <td>2016</td>\n",
       "    </tr>\n",
       "    <tr>\n",
       "      <th>1</th>\n",
       "      <td>2</td>\n",
       "      <td>Marshmallow</td>\n",
       "      <td>No</td>\n",
       "      <td>No</td>\n",
       "      <td>UK</td>\n",
       "      <td>Fintech, Financial Services &amp; Insurance</td>\n",
       "      <td>43,771.2</td>\n",
       "      <td>659.8</td>\n",
       "      <td>94,346,611</td>\n",
       "      <td>201,333</td>\n",
       "      <td>220</td>\n",
       "      <td>8</td>\n",
       "      <td>2016</td>\n",
       "    </tr>\n",
       "    <tr>\n",
       "      <th>2</th>\n",
       "      <td>3</td>\n",
       "      <td>WeCo</td>\n",
       "      <td>No</td>\n",
       "      <td>No</td>\n",
       "      <td>Italy</td>\n",
       "      <td>Manufacturing</td>\n",
       "      <td>15,048.1</td>\n",
       "      <td>433.1</td>\n",
       "      <td>61,882,913</td>\n",
       "      <td>408,518</td>\n",
       "      <td>12</td>\n",
       "      <td>2</td>\n",
       "      <td>2015</td>\n",
       "    </tr>\n",
       "    <tr>\n",
       "      <th>3</th>\n",
       "      <td>4</td>\n",
       "      <td>Silverstream Technologies</td>\n",
       "      <td>No</td>\n",
       "      <td>No</td>\n",
       "      <td>UK</td>\n",
       "      <td>Professional, Scientific &amp; Technical Services</td>\n",
       "      <td>14,488.7</td>\n",
       "      <td>426.4</td>\n",
       "      <td>17,259,314</td>\n",
       "      <td>118,306</td>\n",
       "      <td>48</td>\n",
       "      <td>8</td>\n",
       "      <td>2010</td>\n",
       "    </tr>\n",
       "    <tr>\n",
       "      <th>4</th>\n",
       "      <td>5</td>\n",
       "      <td>Gift &amp; Go</td>\n",
       "      <td>No</td>\n",
       "      <td>No</td>\n",
       "      <td>UK</td>\n",
       "      <td>IT &amp; Software</td>\n",
       "      <td>13,032.6</td>\n",
       "      <td>408.3</td>\n",
       "      <td>17,344,060</td>\n",
       "      <td>123,642</td>\n",
       "      <td>13</td>\n",
       "      <td>2</td>\n",
       "      <td>2017</td>\n",
       "    </tr>\n",
       "    <tr>\n",
       "      <th>...</th>\n",
       "      <td>...</td>\n",
       "      <td>...</td>\n",
       "      <td>...</td>\n",
       "      <td>...</td>\n",
       "      <td>...</td>\n",
       "      <td>...</td>\n",
       "      <td>...</td>\n",
       "      <td>...</td>\n",
       "      <td>...</td>\n",
       "      <td>...</td>\n",
       "      <td>...</td>\n",
       "      <td>...</td>\n",
       "      <td>...</td>\n",
       "    </tr>\n",
       "    <tr>\n",
       "      <th>995</th>\n",
       "      <td>996</td>\n",
       "      <td>Exclaimer</td>\n",
       "      <td>No</td>\n",
       "      <td>No</td>\n",
       "      <td>UK</td>\n",
       "      <td>IT &amp; Software</td>\n",
       "      <td>153.1</td>\n",
       "      <td>36.3</td>\n",
       "      <td>36,932,737</td>\n",
       "      <td>13,658,593</td>\n",
       "      <td>184</td>\n",
       "      <td>79</td>\n",
       "      <td>2001</td>\n",
       "    </tr>\n",
       "    <tr>\n",
       "      <th>996</th>\n",
       "      <td>997</td>\n",
       "      <td>Anthesis Group</td>\n",
       "      <td>No</td>\n",
       "      <td>Yes</td>\n",
       "      <td>UK</td>\n",
       "      <td>Professional, Scientific &amp; Technical Services</td>\n",
       "      <td>153.0</td>\n",
       "      <td>36.3</td>\n",
       "      <td>49,671,979</td>\n",
       "      <td>18,379,332</td>\n",
       "      <td>880</td>\n",
       "      <td>220</td>\n",
       "      <td>2013</td>\n",
       "    </tr>\n",
       "    <tr>\n",
       "      <th>997</th>\n",
       "      <td>998</td>\n",
       "      <td>Globe Flight</td>\n",
       "      <td>No</td>\n",
       "      <td>No</td>\n",
       "      <td>Germany</td>\n",
       "      <td>Wholesale</td>\n",
       "      <td>152.8</td>\n",
       "      <td>36.2</td>\n",
       "      <td>33,369,282</td>\n",
       "      <td>13,199,635</td>\n",
       "      <td>26</td>\n",
       "      <td>18</td>\n",
       "      <td>2012</td>\n",
       "    </tr>\n",
       "    <tr>\n",
       "      <th>998</th>\n",
       "      <td>999</td>\n",
       "      <td>SME France</td>\n",
       "      <td>No</td>\n",
       "      <td>No</td>\n",
       "      <td>France</td>\n",
       "      <td>Construction &amp; Engineering</td>\n",
       "      <td>152.7</td>\n",
       "      <td>36.2</td>\n",
       "      <td>2,672,500</td>\n",
       "      <td>1,057,400</td>\n",
       "      <td>15</td>\n",
       "      <td>7</td>\n",
       "      <td>2013</td>\n",
       "    </tr>\n",
       "    <tr>\n",
       "      <th>999</th>\n",
       "      <td>1000</td>\n",
       "      <td>Panificio Battacone</td>\n",
       "      <td>No</td>\n",
       "      <td>No</td>\n",
       "      <td>Italy</td>\n",
       "      <td>Food &amp; Beverages</td>\n",
       "      <td>152.7</td>\n",
       "      <td>36.2</td>\n",
       "      <td>4,148,431</td>\n",
       "      <td>1,641,643</td>\n",
       "      <td>27</td>\n",
       "      <td>14</td>\n",
       "      <td>2017</td>\n",
       "    </tr>\n",
       "  </tbody>\n",
       "</table>\n",
       "<p>1000 rows × 13 columns</p>\n",
       "</div>\n",
       "    <div class=\"colab-df-buttons\">\n",
       "\n",
       "  <div class=\"colab-df-container\">\n",
       "    <button class=\"colab-df-convert\" onclick=\"convertToInteractive('df-121bf68a-69b9-4248-be18-353399ba7887')\"\n",
       "            title=\"Convert this dataframe to an interactive table.\"\n",
       "            style=\"display:none;\">\n",
       "\n",
       "  <svg xmlns=\"http://www.w3.org/2000/svg\" height=\"24px\" viewBox=\"0 -960 960 960\">\n",
       "    <path d=\"M120-120v-720h720v720H120Zm60-500h600v-160H180v160Zm220 220h160v-160H400v160Zm0 220h160v-160H400v160ZM180-400h160v-160H180v160Zm440 0h160v-160H620v160ZM180-180h160v-160H180v160Zm440 0h160v-160H620v160Z\"/>\n",
       "  </svg>\n",
       "    </button>\n",
       "\n",
       "  <style>\n",
       "    .colab-df-container {\n",
       "      display:flex;\n",
       "      gap: 12px;\n",
       "    }\n",
       "\n",
       "    .colab-df-convert {\n",
       "      background-color: #E8F0FE;\n",
       "      border: none;\n",
       "      border-radius: 50%;\n",
       "      cursor: pointer;\n",
       "      display: none;\n",
       "      fill: #1967D2;\n",
       "      height: 32px;\n",
       "      padding: 0 0 0 0;\n",
       "      width: 32px;\n",
       "    }\n",
       "\n",
       "    .colab-df-convert:hover {\n",
       "      background-color: #E2EBFA;\n",
       "      box-shadow: 0px 1px 2px rgba(60, 64, 67, 0.3), 0px 1px 3px 1px rgba(60, 64, 67, 0.15);\n",
       "      fill: #174EA6;\n",
       "    }\n",
       "\n",
       "    .colab-df-buttons div {\n",
       "      margin-bottom: 4px;\n",
       "    }\n",
       "\n",
       "    [theme=dark] .colab-df-convert {\n",
       "      background-color: #3B4455;\n",
       "      fill: #D2E3FC;\n",
       "    }\n",
       "\n",
       "    [theme=dark] .colab-df-convert:hover {\n",
       "      background-color: #434B5C;\n",
       "      box-shadow: 0px 1px 3px 1px rgba(0, 0, 0, 0.15);\n",
       "      filter: drop-shadow(0px 1px 2px rgba(0, 0, 0, 0.3));\n",
       "      fill: #FFFFFF;\n",
       "    }\n",
       "  </style>\n",
       "\n",
       "    <script>\n",
       "      const buttonEl =\n",
       "        document.querySelector('#df-121bf68a-69b9-4248-be18-353399ba7887 button.colab-df-convert');\n",
       "      buttonEl.style.display =\n",
       "        google.colab.kernel.accessAllowed ? 'block' : 'none';\n",
       "\n",
       "      async function convertToInteractive(key) {\n",
       "        const element = document.querySelector('#df-121bf68a-69b9-4248-be18-353399ba7887');\n",
       "        const dataTable =\n",
       "          await google.colab.kernel.invokeFunction('convertToInteractive',\n",
       "                                                    [key], {});\n",
       "        if (!dataTable) return;\n",
       "\n",
       "        const docLinkHtml = 'Like what you see? Visit the ' +\n",
       "          '<a target=\"_blank\" href=https://colab.research.google.com/notebooks/data_table.ipynb>data table notebook</a>'\n",
       "          + ' to learn more about interactive tables.';\n",
       "        element.innerHTML = '';\n",
       "        dataTable['output_type'] = 'display_data';\n",
       "        await google.colab.output.renderOutput(dataTable, element);\n",
       "        const docLink = document.createElement('div');\n",
       "        docLink.innerHTML = docLinkHtml;\n",
       "        element.appendChild(docLink);\n",
       "      }\n",
       "    </script>\n",
       "  </div>\n",
       "\n",
       "\n",
       "<div id=\"df-841592dc-ec85-47d6-835e-1e24a171db70\">\n",
       "  <button class=\"colab-df-quickchart\" onclick=\"quickchart('df-841592dc-ec85-47d6-835e-1e24a171db70')\"\n",
       "            title=\"Suggest charts\"\n",
       "            style=\"display:none;\">\n",
       "\n",
       "<svg xmlns=\"http://www.w3.org/2000/svg\" height=\"24px\"viewBox=\"0 0 24 24\"\n",
       "     width=\"24px\">\n",
       "    <g>\n",
       "        <path d=\"M19 3H5c-1.1 0-2 .9-2 2v14c0 1.1.9 2 2 2h14c1.1 0 2-.9 2-2V5c0-1.1-.9-2-2-2zM9 17H7v-7h2v7zm4 0h-2V7h2v10zm4 0h-2v-4h2v4z\"/>\n",
       "    </g>\n",
       "</svg>\n",
       "  </button>\n",
       "\n",
       "<style>\n",
       "  .colab-df-quickchart {\n",
       "      --bg-color: #E8F0FE;\n",
       "      --fill-color: #1967D2;\n",
       "      --hover-bg-color: #E2EBFA;\n",
       "      --hover-fill-color: #174EA6;\n",
       "      --disabled-fill-color: #AAA;\n",
       "      --disabled-bg-color: #DDD;\n",
       "  }\n",
       "\n",
       "  [theme=dark] .colab-df-quickchart {\n",
       "      --bg-color: #3B4455;\n",
       "      --fill-color: #D2E3FC;\n",
       "      --hover-bg-color: #434B5C;\n",
       "      --hover-fill-color: #FFFFFF;\n",
       "      --disabled-bg-color: #3B4455;\n",
       "      --disabled-fill-color: #666;\n",
       "  }\n",
       "\n",
       "  .colab-df-quickchart {\n",
       "    background-color: var(--bg-color);\n",
       "    border: none;\n",
       "    border-radius: 50%;\n",
       "    cursor: pointer;\n",
       "    display: none;\n",
       "    fill: var(--fill-color);\n",
       "    height: 32px;\n",
       "    padding: 0;\n",
       "    width: 32px;\n",
       "  }\n",
       "\n",
       "  .colab-df-quickchart:hover {\n",
       "    background-color: var(--hover-bg-color);\n",
       "    box-shadow: 0 1px 2px rgba(60, 64, 67, 0.3), 0 1px 3px 1px rgba(60, 64, 67, 0.15);\n",
       "    fill: var(--button-hover-fill-color);\n",
       "  }\n",
       "\n",
       "  .colab-df-quickchart-complete:disabled,\n",
       "  .colab-df-quickchart-complete:disabled:hover {\n",
       "    background-color: var(--disabled-bg-color);\n",
       "    fill: var(--disabled-fill-color);\n",
       "    box-shadow: none;\n",
       "  }\n",
       "\n",
       "  .colab-df-spinner {\n",
       "    border: 2px solid var(--fill-color);\n",
       "    border-color: transparent;\n",
       "    border-bottom-color: var(--fill-color);\n",
       "    animation:\n",
       "      spin 1s steps(1) infinite;\n",
       "  }\n",
       "\n",
       "  @keyframes spin {\n",
       "    0% {\n",
       "      border-color: transparent;\n",
       "      border-bottom-color: var(--fill-color);\n",
       "      border-left-color: var(--fill-color);\n",
       "    }\n",
       "    20% {\n",
       "      border-color: transparent;\n",
       "      border-left-color: var(--fill-color);\n",
       "      border-top-color: var(--fill-color);\n",
       "    }\n",
       "    30% {\n",
       "      border-color: transparent;\n",
       "      border-left-color: var(--fill-color);\n",
       "      border-top-color: var(--fill-color);\n",
       "      border-right-color: var(--fill-color);\n",
       "    }\n",
       "    40% {\n",
       "      border-color: transparent;\n",
       "      border-right-color: var(--fill-color);\n",
       "      border-top-color: var(--fill-color);\n",
       "    }\n",
       "    60% {\n",
       "      border-color: transparent;\n",
       "      border-right-color: var(--fill-color);\n",
       "    }\n",
       "    80% {\n",
       "      border-color: transparent;\n",
       "      border-right-color: var(--fill-color);\n",
       "      border-bottom-color: var(--fill-color);\n",
       "    }\n",
       "    90% {\n",
       "      border-color: transparent;\n",
       "      border-bottom-color: var(--fill-color);\n",
       "    }\n",
       "  }\n",
       "</style>\n",
       "\n",
       "  <script>\n",
       "    async function quickchart(key) {\n",
       "      const quickchartButtonEl =\n",
       "        document.querySelector('#' + key + ' button');\n",
       "      quickchartButtonEl.disabled = true;  // To prevent multiple clicks.\n",
       "      quickchartButtonEl.classList.add('colab-df-spinner');\n",
       "      try {\n",
       "        const charts = await google.colab.kernel.invokeFunction(\n",
       "            'suggestCharts', [key], {});\n",
       "      } catch (error) {\n",
       "        console.error('Error during call to suggestCharts:', error);\n",
       "      }\n",
       "      quickchartButtonEl.classList.remove('colab-df-spinner');\n",
       "      quickchartButtonEl.classList.add('colab-df-quickchart-complete');\n",
       "    }\n",
       "    (() => {\n",
       "      let quickchartButtonEl =\n",
       "        document.querySelector('#df-841592dc-ec85-47d6-835e-1e24a171db70 button');\n",
       "      quickchartButtonEl.style.display =\n",
       "        google.colab.kernel.accessAllowed ? 'block' : 'none';\n",
       "    })();\n",
       "  </script>\n",
       "</div>\n",
       "    </div>\n",
       "  </div>\n"
      ],
      "text/plain": [
       "     Rank                       Name in 2022 ranking in 2021 ranking  Country  \\\n",
       "0       1          Tripledot Studios              No              No       UK   \n",
       "1       2                Marshmallow              No              No       UK   \n",
       "2       3                       WeCo              No              No    Italy   \n",
       "3       4  Silverstream Technologies              No              No       UK   \n",
       "4       5                  Gift & Go              No              No       UK   \n",
       "..    ...                        ...             ...             ...      ...   \n",
       "995   996                  Exclaimer              No              No       UK   \n",
       "996   997             Anthesis Group              No             Yes       UK   \n",
       "997   998               Globe Flight              No              No  Germany   \n",
       "998   999                 SME France              No              No   France   \n",
       "999  1000        Panificio Battacone              No              No    Italy   \n",
       "\n",
       "                                            Sector Absolute Growth Rate %  \\\n",
       "0                          Leisure & Entertainment               71,507.8   \n",
       "1          Fintech, Financial Services & Insurance               43,771.2   \n",
       "2                                    Manufacturing               15,048.1   \n",
       "3    Professional, Scientific & Technical Services               14,488.7   \n",
       "4                                    IT & Software               13,032.6   \n",
       "..                                             ...                    ...   \n",
       "995                                  IT & Software                  153.1   \n",
       "996  Professional, Scientific & Technical Services                  153.0   \n",
       "997                                      Wholesale                  152.8   \n",
       "998                     Construction & Engineering                  152.7   \n",
       "999                               Food & Beverages                  152.7   \n",
       "\n",
       "    Compound Annual Growth Rate (CAGR) % Revenue 2021 (€) Revenue 2018 (€)  \\\n",
       "0                                  794.7       83,062,822          115,197   \n",
       "1                                  659.8       94,346,611          201,333   \n",
       "2                                  433.1       61,882,913          408,518   \n",
       "3                                  426.4       17,259,314          118,306   \n",
       "4                                  408.3       17,344,060          123,642   \n",
       "..                                   ...              ...              ...   \n",
       "995                                 36.3       36,932,737       13,658,593   \n",
       "996                                 36.3       49,671,979       18,379,332   \n",
       "997                                 36.2       33,369,282       13,199,635   \n",
       "998                                 36.2        2,672,500        1,057,400   \n",
       "999                                 36.2        4,148,431        1,641,643   \n",
       "\n",
       "    Number of employees 2021 Number of employees 2018 Founding Year  \n",
       "0                        172                       18          2016  \n",
       "1                        220                        8          2016  \n",
       "2                         12                        2          2015  \n",
       "3                         48                        8          2010  \n",
       "4                         13                        2          2017  \n",
       "..                       ...                      ...           ...  \n",
       "995                      184                       79          2001  \n",
       "996                      880                      220          2013  \n",
       "997                       26                       18          2012  \n",
       "998                       15                        7          2013  \n",
       "999                       27                       14          2017  \n",
       "\n",
       "[1000 rows x 13 columns]"
      ]
     },
     "execution_count": 11,
     "metadata": {},
     "output_type": "execute_result"
    }
   ],
   "source": [
    "df_ft1000"
   ]
  },
  {
   "cell_type": "code",
   "execution_count": 342,
   "metadata": {
    "colab": {
     "base_uri": "https://localhost:8080/",
     "height": 17
    },
    "executionInfo": {
     "elapsed": 11,
     "status": "ok",
     "timestamp": 1700179641235,
     "user": {
      "displayName": "Huijing Yang",
      "userId": "04973591626880246182"
     },
     "user_tz": 300
    },
    "id": "uiIW1Lc6mihX",
    "outputId": "ac672806-c56b-483a-c74a-03854e6c0ff2"
   },
   "outputs": [
    {
     "data": {
      "application/javascript": [
       "\n",
       "    async function download(id, filename, size) {\n",
       "      if (!google.colab.kernel.accessAllowed) {\n",
       "        return;\n",
       "      }\n",
       "      const div = document.createElement('div');\n",
       "      const label = document.createElement('label');\n",
       "      label.textContent = `Downloading \"${filename}\": `;\n",
       "      div.appendChild(label);\n",
       "      const progress = document.createElement('progress');\n",
       "      progress.max = size;\n",
       "      div.appendChild(progress);\n",
       "      document.body.appendChild(div);\n",
       "\n",
       "      const buffers = [];\n",
       "      let downloaded = 0;\n",
       "\n",
       "      const channel = await google.colab.kernel.comms.open(id);\n",
       "      // Send a message to notify the kernel that we're ready.\n",
       "      channel.send({})\n",
       "\n",
       "      for await (const message of channel.messages) {\n",
       "        // Send a message to notify the kernel that we're ready.\n",
       "        channel.send({})\n",
       "        if (message.buffers) {\n",
       "          for (const buffer of message.buffers) {\n",
       "            buffers.push(buffer);\n",
       "            downloaded += buffer.byteLength;\n",
       "            progress.value = downloaded;\n",
       "          }\n",
       "        }\n",
       "      }\n",
       "      const blob = new Blob(buffers, {type: 'application/binary'});\n",
       "      const a = document.createElement('a');\n",
       "      a.href = window.URL.createObjectURL(blob);\n",
       "      a.download = filename;\n",
       "      div.appendChild(a);\n",
       "      a.click();\n",
       "      div.remove();\n",
       "    }\n",
       "  "
      ],
      "text/plain": [
       "<IPython.core.display.Javascript object>"
      ]
     },
     "metadata": {},
     "output_type": "display_data"
    },
    {
     "data": {
      "application/javascript": [
       "download(\"download_cc714e73-671a-4e48-9bf0-221b9a83dd52\", \"ft1000.csv\", 101578)"
      ],
      "text/plain": [
       "<IPython.core.display.Javascript object>"
      ]
     },
     "metadata": {},
     "output_type": "display_data"
    }
   ],
   "source": [
    "# df_ft1000.to_csv(\"ft1000.csv\")\n",
    "# files.download(\"ft1000.csv\")"
   ]
  },
  {
   "cell_type": "code",
   "execution_count": 12,
   "metadata": {
    "executionInfo": {
     "elapsed": 281,
     "status": "ok",
     "timestamp": 1700193427373,
     "user": {
      "displayName": "Huijing Yang",
      "userId": "04973591626880246182"
     },
     "user_tz": 300
    },
    "id": "EyZZhdPKrHts"
   },
   "outputs": [],
   "source": [
    "# save the result in csv file\n",
    "path = \"/content/drive/My Drive/Quantitative-Project/Web Scraping in Python/ft1000.csv\"\n",
    "with open(path, 'w', encoding='utf-8-sig') as f:\n",
    "    df_ft1000.to_csv(f)"
   ]
  },
  {
   "cell_type": "code",
   "execution_count": 37,
   "metadata": {
    "executionInfo": {
     "elapsed": 234,
     "status": "ok",
     "timestamp": 1700196267481,
     "user": {
      "displayName": "Huijing Yang",
      "userId": "04973591626880246182"
     },
     "user_tz": 300
    },
    "id": "oLDwU9HKl-rV"
   },
   "outputs": [],
   "source": [
    "# from DataFrame to SQL\n",
    "conn = sqlite3.connect('ft1000_database')\n",
    "c = conn.cursor()"
   ]
  },
  {
   "cell_type": "code",
   "execution_count": 38,
   "metadata": {
    "executionInfo": {
     "elapsed": 281,
     "status": "ok",
     "timestamp": 1700196680207,
     "user": {
      "displayName": "Huijing Yang",
      "userId": "04973591626880246182"
     },
     "user_tz": 300
    },
    "id": "bqEoHVqcmKAD"
   },
   "outputs": [],
   "source": [
    "c.execute('CREATE TABLE IF NOT EXISTS ft1000 (Rank number, Name text, in_2022_ranking text, in_2021_ranking text, Country text, Sector text, Absolute_Growth_Rate number, Compound_Annual_Growth_Rate number, Revenue_2021 number, Revenue_2018 number, Number_of_employees_2021 number, Number_of_employees_2018 number, Founding_Year number)')\n",
    "conn.commit()"
   ]
  },
  {
   "cell_type": "code",
   "execution_count": 39,
   "metadata": {
    "colab": {
     "base_uri": "https://localhost:8080/"
    },
    "executionInfo": {
     "elapsed": 168,
     "status": "ok",
     "timestamp": 1700196716377,
     "user": {
      "displayName": "Huijing Yang",
      "userId": "04973591626880246182"
     },
     "user_tz": 300
    },
    "id": "eP03JG8XnoRH",
    "outputId": "783f5b49-5a98-439d-f196-56b43fcddf4a"
   },
   "outputs": [
    {
     "data": {
      "text/plain": [
       "1000"
      ]
     },
     "execution_count": 39,
     "metadata": {},
     "output_type": "execute_result"
    }
   ],
   "source": [
    "df_ft1000.to_sql('ft1000', conn, if_exists='replace', index = False)"
   ]
  },
  {
   "cell_type": "code",
   "execution_count": 43,
   "metadata": {
    "colab": {
     "base_uri": "https://localhost:8080/"
    },
    "executionInfo": {
     "elapsed": 197,
     "status": "ok",
     "timestamp": 1700196922969,
     "user": {
      "displayName": "Huijing Yang",
      "userId": "04973591626880246182"
     },
     "user_tz": 300
    },
    "id": "soMPUqoTn2nh",
    "outputId": "36b75ff7-148d-4341-ac03-f997175cce20"
   },
   "outputs": [
    {
     "name": "stdout",
     "output_type": "stream",
     "text": [
      "('1', 'Tripledot Studios', 'No', 'No', 'UK', 'Leisure & Entertainment', '71,507.8', '794.7', '83,062,822', '115,197', '172', '18', '2016')\n",
      "('2', 'Marshmallow', 'No', 'No', 'UK', 'Fintech, Financial Services & Insurance', '43,771.2', '659.8', '94,346,611', '201,333', '220', '8', '2016')\n",
      "('3', 'WeCo', 'No', 'No', 'Italy', 'Manufacturing', '15,048.1', '433.1', '61,882,913', '408,518', '12', '2', '2015')\n",
      "('4', 'Silverstream Technologies', 'No', 'No', 'UK', 'Professional, Scientific & Technical Services', '14,488.7', '426.4', '17,259,314', '118,306', '48', '8', '2010')\n",
      "('5', 'Gift & Go', 'No', 'No', 'UK', 'IT & Software', '13,032.6', '408.3', '17,344,060', '123,642', '13', '2', '2017')\n",
      "('6', 'GT Classic Cars', 'No', 'No', 'France', 'Retail', '11,215.2', '383.7', '14,039,007', '124,072', '9', '1', '2012')\n",
      "('7', 'illimity Bank', 'No', 'No', 'Italy', 'Fintech, Financial Services & Insurance', '9,251.2', '353.9', '271,184,000', '2,900,000', '725', '138', '2018')\n",
      "('8', 'Inkitt', 'No', 'No', 'Germany', 'Leisure & Entertainment', '8,141.5', '335.2', '11,978,636', '144,343', '82', '19', '2014')\n",
      "('9', 'Onto', 'No', 'No', 'UK', 'Automotive', '8,079.0', '334.1', '15,048,654', '172,252', '113', '13', '2017')\n",
      "('10', 'Elettrosmart', 'No', 'No', 'Italy', 'Wholesale', '7,576.9', '325.0', '49,159,967', '640,359', '8', '4', '2017')\n"
     ]
    }
   ],
   "source": [
    "c.execute('''\n",
    "SELECT * FROM ft1000\n",
    "LIMIT 10\n",
    "          ''')\n",
    "\n",
    "for row in c.fetchall():\n",
    "    print (row)"
   ]
  },
  {
   "cell_type": "code",
   "execution_count": 42,
   "metadata": {
    "executionInfo": {
     "elapsed": 3,
     "status": "ok",
     "timestamp": 1700196809733,
     "user": {
      "displayName": "Huijing Yang",
      "userId": "04973591626880246182"
     },
     "user_tz": 300
    },
    "id": "gbQtS1FqQtsr"
   },
   "outputs": [],
   "source": [
    "# df_ft1000.to_csv(\"ft1000.csv\")\n",
    "# pd.read_csv(\"ft1000.csv\", index_col=0)"
   ]
  },
  {
   "cell_type": "markdown",
   "metadata": {
    "id": "_US_aGrup1Hr"
   },
   "source": [
    "# Part II: S&P 500 Companies by Weight"
   ]
  },
  {
   "cell_type": "code",
   "execution_count": 7,
   "metadata": {
    "colab": {
     "base_uri": "https://localhost:8080/"
    },
    "executionInfo": {
     "elapsed": 4,
     "status": "ok",
     "timestamp": 1700234097971,
     "user": {
      "displayName": "Huijing Yang",
      "userId": "04973591626880246182"
     },
     "user_tz": 300
    },
    "id": "0VRwWHFACCZJ",
    "outputId": "f6c97f0a-80ff-4dc8-b914-5f9b677729eb"
   },
   "outputs": [
    {
     "data": {
      "text/plain": [
       "{'User-Agent': 'python-requests/2.31.0', 'Accept-Encoding': 'gzip, deflate', 'Accept': '*/*', 'Connection': 'keep-alive'}"
      ]
     },
     "execution_count": 7,
     "metadata": {},
     "output_type": "execute_result"
    }
   ],
   "source": [
    "requests.utils.default_headers()"
   ]
  },
  {
   "cell_type": "markdown",
   "metadata": {
    "id": "k2lZ-IO5s3D3"
   },
   "source": [
    "The default `User-Agent` of `requests` is `python-requests/2.31.0`, if website doesn't like traffic from \"non-browsers\", they will try to block such traffic.\n",
    "\n",
    "We need to make the request appear like coming from a browser by adding extra `header` parameter."
   ]
  },
  {
   "cell_type": "code",
   "execution_count": 74,
   "metadata": {
    "executionInfo": {
     "elapsed": 434,
     "status": "ok",
     "timestamp": 1700198372547,
     "user": {
      "displayName": "Huijing Yang",
      "userId": "04973591626880246182"
     },
     "user_tz": 300
    },
    "id": "hlYg_MiUtjlU"
   },
   "outputs": [],
   "source": [
    "# headers = {\"User-Agent\" : \"Mozilla/5.0 (Macintosh; Intel Mac OS X 10_15_7) Gecko/20100101 Firefox/45.0\"}\n",
    "# sp500_url = \"https://www.slickcharts.com/sp500\"\n",
    "# sp500_page = requests.get(sp500_url, allow_redirects = False, headers = headers).text\n",
    "# sp500_page = sp500_page.replace(u'\\xa0', u'')\n",
    "# sp500_soup = BeautifulSoup(sp500_page, 'html.parser')"
   ]
  },
  {
   "cell_type": "code",
   "execution_count": 8,
   "metadata": {
    "executionInfo": {
     "elapsed": 686,
     "status": "ok",
     "timestamp": 1700234123107,
     "user": {
      "displayName": "Huijing Yang",
      "userId": "04973591626880246182"
     },
     "user_tz": 300
    },
    "id": "QaMfvRbOp10U"
   },
   "outputs": [],
   "source": [
    "sp500_url = \"https://www.slickcharts.com/sp500\"\n",
    "# browser = mechanicalsoup.Browser()\n",
    "browser = mechanicalsoup.StatefulBrowser()\n",
    "browser.set_user_agent(\"Mozilla/5.0 (Macintosh; Intel Mac OS X 10_15_7) Gecko/20100101 Firefox/45.0\")\n",
    "sp500_page = browser.get(sp500_url)\n",
    "sp500_soup = sp500_page.soup"
   ]
  },
  {
   "cell_type": "code",
   "execution_count": 64,
   "metadata": {
    "executionInfo": {
     "elapsed": 197,
     "status": "ok",
     "timestamp": 1700197833120,
     "user": {
      "displayName": "Huijing Yang",
      "userId": "04973591626880246182"
     },
     "user_tz": 300
    },
    "id": "gcFxY4j2re2l"
   },
   "outputs": [],
   "source": [
    "sp500_soup = sp500_soup.replace(u'\\xa0', u' ')"
   ]
  },
  {
   "cell_type": "code",
   "execution_count": 9,
   "metadata": {
    "colab": {
     "base_uri": "https://localhost:8080/",
     "height": 35
    },
    "executionInfo": {
     "elapsed": 282,
     "status": "ok",
     "timestamp": 1700234130065,
     "user": {
      "displayName": "Huijing Yang",
      "userId": "04973591626880246182"
     },
     "user_tz": 300
    },
    "id": "3nDH-bSlqMyx",
    "outputId": "2d3d92ab-8387-4e4b-9fb5-52bbbdf4ee55"
   },
   "outputs": [
    {
     "data": {
      "application/vnd.google.colaboratory.intrinsic+json": {
       "type": "string"
      },
      "text/plain": [
       "'S&P 500 Companies by Weight'"
      ]
     },
     "execution_count": 9,
     "metadata": {},
     "output_type": "execute_result"
    }
   ],
   "source": [
    "sp500_soup.title.string"
   ]
  },
  {
   "cell_type": "markdown",
   "metadata": {
    "id": "qxLK6zq0s_mB"
   },
   "source": []
  },
  {
   "cell_type": "code",
   "execution_count": 10,
   "metadata": {
    "colab": {
     "base_uri": "https://localhost:8080/"
    },
    "executionInfo": {
     "elapsed": 381,
     "status": "ok",
     "timestamp": 1700234140978,
     "user": {
      "displayName": "Huijing Yang",
      "userId": "04973591626880246182"
     },
     "user_tz": 300
    },
    "id": "KJuGWniaqfJc",
    "outputId": "170f199d-334a-45f4-b530-dd1248c32f7e"
   },
   "outputs": [
    {
     "name": "stdout",
     "output_type": "stream",
     "text": [
      "['#', 'Company', 'Symbol', 'Portfolio%', 'Price', 'Chg', '% Chg']\n"
     ]
    }
   ],
   "source": [
    "# column names\n",
    "sp500_headers = sp500_soup.find_all(\"th\")\n",
    "sp500_header_col = []\n",
    "for i in range(len(sp500_headers)):\n",
    "    sp500_header_col.append(sp500_headers[i].string.replace(u'\\xa0', u''))\n",
    "print(sp500_header_col)"
   ]
  },
  {
   "cell_type": "code",
   "execution_count": 11,
   "metadata": {
    "executionInfo": {
     "elapsed": 234,
     "status": "ok",
     "timestamp": 1700234148043,
     "user": {
      "displayName": "Huijing Yang",
      "userId": "04973591626880246182"
     },
     "user_tz": 300
    },
    "id": "X9PvfApqqqzo"
   },
   "outputs": [],
   "source": [
    "df_sp500 = pd.DataFrame(columns=sp500_header_col, index=pd.RangeIndex(start=0, stop=503, step=1))"
   ]
  },
  {
   "cell_type": "code",
   "execution_count": 29,
   "metadata": {
    "colab": {
     "base_uri": "https://localhost:8080/"
    },
    "executionInfo": {
     "elapsed": 10,
     "status": "ok",
     "timestamp": 1700234807998,
     "user": {
      "displayName": "Huijing Yang",
      "userId": "04973591626880246182"
     },
     "user_tz": 300
    },
    "id": "Lx4jMnQ_qTJi",
    "outputId": "034fc24d-105b-4e2a-ebd4-57cf955f557f"
   },
   "outputs": [
    {
     "data": {
      "text/plain": [
       "<td class=\"text-nowrap\"><img alt=\"\" src=\"/img/down.gif\"/>   188.88</td>"
      ]
     },
     "execution_count": 29,
     "metadata": {},
     "output_type": "execute_result"
    }
   ],
   "source": [
    "sp500_soup.find_all(\"tr\")[1].find_all(\"td\")[4]"
   ]
  },
  {
   "cell_type": "markdown",
   "metadata": {
    "id": "0-h90xq-5E7O"
   },
   "source": [
    "The `get_text(strip=True)` method is used to extract the text content of the tag, removing any leading or trailing whitespace."
   ]
  },
  {
   "cell_type": "code",
   "execution_count": 27,
   "metadata": {
    "executionInfo": {
     "elapsed": 248,
     "status": "ok",
     "timestamp": 1700234773219,
     "user": {
      "displayName": "Huijing Yang",
      "userId": "04973591626880246182"
     },
     "user_tz": 300
    },
    "id": "ZXdCXdxFq5dh"
   },
   "outputs": [],
   "source": [
    "sp500 = sp500_soup.find_all(\"tr\")\n",
    "for i in range(1,len(sp500)-4):\n",
    "    for j in range(len(sp500_header_col)):\n",
    "        cell_value = sp500[i].find_all(\"td\")[j].get_text(strip=True)\n",
    "        df_sp500.iloc[i-1, j] = cell_value\n",
    "# print(df_sp500)"
   ]
  },
  {
   "cell_type": "code",
   "execution_count": 28,
   "metadata": {
    "colab": {
     "base_uri": "https://localhost:8080/",
     "height": 424
    },
    "executionInfo": {
     "elapsed": 357,
     "status": "ok",
     "timestamp": 1700234778794,
     "user": {
      "displayName": "Huijing Yang",
      "userId": "04973591626880246182"
     },
     "user_tz": 300
    },
    "id": "mGjHcWAzcmBo",
    "outputId": "79187402-6497-4153-d608-027f48dd1835"
   },
   "outputs": [
    {
     "data": {
      "text/html": [
       "\n",
       "  <div id=\"df-8da0cbd6-ff66-4540-ab62-03269267a7aa\" class=\"colab-df-container\">\n",
       "    <div>\n",
       "<style scoped>\n",
       "    .dataframe tbody tr th:only-of-type {\n",
       "        vertical-align: middle;\n",
       "    }\n",
       "\n",
       "    .dataframe tbody tr th {\n",
       "        vertical-align: top;\n",
       "    }\n",
       "\n",
       "    .dataframe thead th {\n",
       "        text-align: right;\n",
       "    }\n",
       "</style>\n",
       "<table border=\"1\" class=\"dataframe\">\n",
       "  <thead>\n",
       "    <tr style=\"text-align: right;\">\n",
       "      <th></th>\n",
       "      <th>#</th>\n",
       "      <th>Company</th>\n",
       "      <th>Symbol</th>\n",
       "      <th>Portfolio%</th>\n",
       "      <th>Price</th>\n",
       "      <th>Chg</th>\n",
       "      <th>% Chg</th>\n",
       "    </tr>\n",
       "  </thead>\n",
       "  <tbody>\n",
       "    <tr>\n",
       "      <th>0</th>\n",
       "      <td>1</td>\n",
       "      <td>Apple Inc.</td>\n",
       "      <td>AAPL</td>\n",
       "      <td>7.30%</td>\n",
       "      <td>188.88</td>\n",
       "      <td>-0.83</td>\n",
       "      <td>(-0.44%)</td>\n",
       "    </tr>\n",
       "    <tr>\n",
       "      <th>1</th>\n",
       "      <td>2</td>\n",
       "      <td>Microsoft Corp</td>\n",
       "      <td>MSFT</td>\n",
       "      <td>7.26%</td>\n",
       "      <td>370.94</td>\n",
       "      <td>-5.23</td>\n",
       "      <td>(-1.39%)</td>\n",
       "    </tr>\n",
       "    <tr>\n",
       "      <th>2</th>\n",
       "      <td>3</td>\n",
       "      <td>Amazon.com Inc</td>\n",
       "      <td>AMZN</td>\n",
       "      <td>3.44%</td>\n",
       "      <td>143.66</td>\n",
       "      <td>0.83</td>\n",
       "      <td>(0.58%)</td>\n",
       "    </tr>\n",
       "    <tr>\n",
       "      <th>3</th>\n",
       "      <td>4</td>\n",
       "      <td>Nvidia Corp</td>\n",
       "      <td>NVDA</td>\n",
       "      <td>3.19%</td>\n",
       "      <td>493.48</td>\n",
       "      <td>-1.32</td>\n",
       "      <td>(-0.27%)</td>\n",
       "    </tr>\n",
       "    <tr>\n",
       "      <th>4</th>\n",
       "      <td>5</td>\n",
       "      <td>Alphabet Inc. Class A</td>\n",
       "      <td>GOOGL</td>\n",
       "      <td>2.11%</td>\n",
       "      <td>134.93</td>\n",
       "      <td>-2.00</td>\n",
       "      <td>(-1.46%)</td>\n",
       "    </tr>\n",
       "    <tr>\n",
       "      <th>...</th>\n",
       "      <td>...</td>\n",
       "      <td>...</td>\n",
       "      <td>...</td>\n",
       "      <td>...</td>\n",
       "      <td>...</td>\n",
       "      <td>...</td>\n",
       "      <td>...</td>\n",
       "    </tr>\n",
       "    <tr>\n",
       "      <th>498</th>\n",
       "      <td>499</td>\n",
       "      <td>Alaska Air Group, Inc.</td>\n",
       "      <td>ALK</td>\n",
       "      <td>0.01%</td>\n",
       "      <td>36.84</td>\n",
       "      <td>0.64</td>\n",
       "      <td>(1.76%)</td>\n",
       "    </tr>\n",
       "    <tr>\n",
       "      <th>499</th>\n",
       "      <td>500</td>\n",
       "      <td>Solaredge Technologies, Inc.</td>\n",
       "      <td>SEDG</td>\n",
       "      <td>0.01%</td>\n",
       "      <td>75.75</td>\n",
       "      <td>-0.77</td>\n",
       "      <td>(-1.01%)</td>\n",
       "    </tr>\n",
       "    <tr>\n",
       "      <th>500</th>\n",
       "      <td>501</td>\n",
       "      <td>Mohawk Industries, Inc.</td>\n",
       "      <td>MHK</td>\n",
       "      <td>0.01%</td>\n",
       "      <td>85.78</td>\n",
       "      <td>0.29</td>\n",
       "      <td>(0.34%)</td>\n",
       "    </tr>\n",
       "    <tr>\n",
       "      <th>501</th>\n",
       "      <td>502</td>\n",
       "      <td>Fox Corporation Class B</td>\n",
       "      <td>FOX</td>\n",
       "      <td>0.01%</td>\n",
       "      <td>28.33</td>\n",
       "      <td>0.19</td>\n",
       "      <td>(0.68%)</td>\n",
       "    </tr>\n",
       "    <tr>\n",
       "      <th>502</th>\n",
       "      <td>503</td>\n",
       "      <td>News Corporation Class B</td>\n",
       "      <td>NWS</td>\n",
       "      <td>0.01%</td>\n",
       "      <td>21.93</td>\n",
       "      <td>-0.04</td>\n",
       "      <td>(-0.16%)</td>\n",
       "    </tr>\n",
       "  </tbody>\n",
       "</table>\n",
       "<p>503 rows × 7 columns</p>\n",
       "</div>\n",
       "    <div class=\"colab-df-buttons\">\n",
       "\n",
       "  <div class=\"colab-df-container\">\n",
       "    <button class=\"colab-df-convert\" onclick=\"convertToInteractive('df-8da0cbd6-ff66-4540-ab62-03269267a7aa')\"\n",
       "            title=\"Convert this dataframe to an interactive table.\"\n",
       "            style=\"display:none;\">\n",
       "\n",
       "  <svg xmlns=\"http://www.w3.org/2000/svg\" height=\"24px\" viewBox=\"0 -960 960 960\">\n",
       "    <path d=\"M120-120v-720h720v720H120Zm60-500h600v-160H180v160Zm220 220h160v-160H400v160Zm0 220h160v-160H400v160ZM180-400h160v-160H180v160Zm440 0h160v-160H620v160ZM180-180h160v-160H180v160Zm440 0h160v-160H620v160Z\"/>\n",
       "  </svg>\n",
       "    </button>\n",
       "\n",
       "  <style>\n",
       "    .colab-df-container {\n",
       "      display:flex;\n",
       "      gap: 12px;\n",
       "    }\n",
       "\n",
       "    .colab-df-convert {\n",
       "      background-color: #E8F0FE;\n",
       "      border: none;\n",
       "      border-radius: 50%;\n",
       "      cursor: pointer;\n",
       "      display: none;\n",
       "      fill: #1967D2;\n",
       "      height: 32px;\n",
       "      padding: 0 0 0 0;\n",
       "      width: 32px;\n",
       "    }\n",
       "\n",
       "    .colab-df-convert:hover {\n",
       "      background-color: #E2EBFA;\n",
       "      box-shadow: 0px 1px 2px rgba(60, 64, 67, 0.3), 0px 1px 3px 1px rgba(60, 64, 67, 0.15);\n",
       "      fill: #174EA6;\n",
       "    }\n",
       "\n",
       "    .colab-df-buttons div {\n",
       "      margin-bottom: 4px;\n",
       "    }\n",
       "\n",
       "    [theme=dark] .colab-df-convert {\n",
       "      background-color: #3B4455;\n",
       "      fill: #D2E3FC;\n",
       "    }\n",
       "\n",
       "    [theme=dark] .colab-df-convert:hover {\n",
       "      background-color: #434B5C;\n",
       "      box-shadow: 0px 1px 3px 1px rgba(0, 0, 0, 0.15);\n",
       "      filter: drop-shadow(0px 1px 2px rgba(0, 0, 0, 0.3));\n",
       "      fill: #FFFFFF;\n",
       "    }\n",
       "  </style>\n",
       "\n",
       "    <script>\n",
       "      const buttonEl =\n",
       "        document.querySelector('#df-8da0cbd6-ff66-4540-ab62-03269267a7aa button.colab-df-convert');\n",
       "      buttonEl.style.display =\n",
       "        google.colab.kernel.accessAllowed ? 'block' : 'none';\n",
       "\n",
       "      async function convertToInteractive(key) {\n",
       "        const element = document.querySelector('#df-8da0cbd6-ff66-4540-ab62-03269267a7aa');\n",
       "        const dataTable =\n",
       "          await google.colab.kernel.invokeFunction('convertToInteractive',\n",
       "                                                    [key], {});\n",
       "        if (!dataTable) return;\n",
       "\n",
       "        const docLinkHtml = 'Like what you see? Visit the ' +\n",
       "          '<a target=\"_blank\" href=https://colab.research.google.com/notebooks/data_table.ipynb>data table notebook</a>'\n",
       "          + ' to learn more about interactive tables.';\n",
       "        element.innerHTML = '';\n",
       "        dataTable['output_type'] = 'display_data';\n",
       "        await google.colab.output.renderOutput(dataTable, element);\n",
       "        const docLink = document.createElement('div');\n",
       "        docLink.innerHTML = docLinkHtml;\n",
       "        element.appendChild(docLink);\n",
       "      }\n",
       "    </script>\n",
       "  </div>\n",
       "\n",
       "\n",
       "<div id=\"df-7fb9d8af-b569-4c73-bd90-31df20d70264\">\n",
       "  <button class=\"colab-df-quickchart\" onclick=\"quickchart('df-7fb9d8af-b569-4c73-bd90-31df20d70264')\"\n",
       "            title=\"Suggest charts\"\n",
       "            style=\"display:none;\">\n",
       "\n",
       "<svg xmlns=\"http://www.w3.org/2000/svg\" height=\"24px\"viewBox=\"0 0 24 24\"\n",
       "     width=\"24px\">\n",
       "    <g>\n",
       "        <path d=\"M19 3H5c-1.1 0-2 .9-2 2v14c0 1.1.9 2 2 2h14c1.1 0 2-.9 2-2V5c0-1.1-.9-2-2-2zM9 17H7v-7h2v7zm4 0h-2V7h2v10zm4 0h-2v-4h2v4z\"/>\n",
       "    </g>\n",
       "</svg>\n",
       "  </button>\n",
       "\n",
       "<style>\n",
       "  .colab-df-quickchart {\n",
       "      --bg-color: #E8F0FE;\n",
       "      --fill-color: #1967D2;\n",
       "      --hover-bg-color: #E2EBFA;\n",
       "      --hover-fill-color: #174EA6;\n",
       "      --disabled-fill-color: #AAA;\n",
       "      --disabled-bg-color: #DDD;\n",
       "  }\n",
       "\n",
       "  [theme=dark] .colab-df-quickchart {\n",
       "      --bg-color: #3B4455;\n",
       "      --fill-color: #D2E3FC;\n",
       "      --hover-bg-color: #434B5C;\n",
       "      --hover-fill-color: #FFFFFF;\n",
       "      --disabled-bg-color: #3B4455;\n",
       "      --disabled-fill-color: #666;\n",
       "  }\n",
       "\n",
       "  .colab-df-quickchart {\n",
       "    background-color: var(--bg-color);\n",
       "    border: none;\n",
       "    border-radius: 50%;\n",
       "    cursor: pointer;\n",
       "    display: none;\n",
       "    fill: var(--fill-color);\n",
       "    height: 32px;\n",
       "    padding: 0;\n",
       "    width: 32px;\n",
       "  }\n",
       "\n",
       "  .colab-df-quickchart:hover {\n",
       "    background-color: var(--hover-bg-color);\n",
       "    box-shadow: 0 1px 2px rgba(60, 64, 67, 0.3), 0 1px 3px 1px rgba(60, 64, 67, 0.15);\n",
       "    fill: var(--button-hover-fill-color);\n",
       "  }\n",
       "\n",
       "  .colab-df-quickchart-complete:disabled,\n",
       "  .colab-df-quickchart-complete:disabled:hover {\n",
       "    background-color: var(--disabled-bg-color);\n",
       "    fill: var(--disabled-fill-color);\n",
       "    box-shadow: none;\n",
       "  }\n",
       "\n",
       "  .colab-df-spinner {\n",
       "    border: 2px solid var(--fill-color);\n",
       "    border-color: transparent;\n",
       "    border-bottom-color: var(--fill-color);\n",
       "    animation:\n",
       "      spin 1s steps(1) infinite;\n",
       "  }\n",
       "\n",
       "  @keyframes spin {\n",
       "    0% {\n",
       "      border-color: transparent;\n",
       "      border-bottom-color: var(--fill-color);\n",
       "      border-left-color: var(--fill-color);\n",
       "    }\n",
       "    20% {\n",
       "      border-color: transparent;\n",
       "      border-left-color: var(--fill-color);\n",
       "      border-top-color: var(--fill-color);\n",
       "    }\n",
       "    30% {\n",
       "      border-color: transparent;\n",
       "      border-left-color: var(--fill-color);\n",
       "      border-top-color: var(--fill-color);\n",
       "      border-right-color: var(--fill-color);\n",
       "    }\n",
       "    40% {\n",
       "      border-color: transparent;\n",
       "      border-right-color: var(--fill-color);\n",
       "      border-top-color: var(--fill-color);\n",
       "    }\n",
       "    60% {\n",
       "      border-color: transparent;\n",
       "      border-right-color: var(--fill-color);\n",
       "    }\n",
       "    80% {\n",
       "      border-color: transparent;\n",
       "      border-right-color: var(--fill-color);\n",
       "      border-bottom-color: var(--fill-color);\n",
       "    }\n",
       "    90% {\n",
       "      border-color: transparent;\n",
       "      border-bottom-color: var(--fill-color);\n",
       "    }\n",
       "  }\n",
       "</style>\n",
       "\n",
       "  <script>\n",
       "    async function quickchart(key) {\n",
       "      const quickchartButtonEl =\n",
       "        document.querySelector('#' + key + ' button');\n",
       "      quickchartButtonEl.disabled = true;  // To prevent multiple clicks.\n",
       "      quickchartButtonEl.classList.add('colab-df-spinner');\n",
       "      try {\n",
       "        const charts = await google.colab.kernel.invokeFunction(\n",
       "            'suggestCharts', [key], {});\n",
       "      } catch (error) {\n",
       "        console.error('Error during call to suggestCharts:', error);\n",
       "      }\n",
       "      quickchartButtonEl.classList.remove('colab-df-spinner');\n",
       "      quickchartButtonEl.classList.add('colab-df-quickchart-complete');\n",
       "    }\n",
       "    (() => {\n",
       "      let quickchartButtonEl =\n",
       "        document.querySelector('#df-7fb9d8af-b569-4c73-bd90-31df20d70264 button');\n",
       "      quickchartButtonEl.style.display =\n",
       "        google.colab.kernel.accessAllowed ? 'block' : 'none';\n",
       "    })();\n",
       "  </script>\n",
       "</div>\n",
       "    </div>\n",
       "  </div>\n"
      ],
      "text/plain": [
       "       #                       Company Symbol Portfolio%   Price    Chg  \\\n",
       "0      1                    Apple Inc.   AAPL      7.30%  188.88  -0.83   \n",
       "1      2                Microsoft Corp   MSFT      7.26%  370.94  -5.23   \n",
       "2      3                Amazon.com Inc   AMZN      3.44%  143.66   0.83   \n",
       "3      4                   Nvidia Corp   NVDA      3.19%  493.48  -1.32   \n",
       "4      5         Alphabet Inc. Class A  GOOGL      2.11%  134.93  -2.00   \n",
       "..   ...                           ...    ...        ...     ...    ...   \n",
       "498  499        Alaska Air Group, Inc.    ALK      0.01%   36.84   0.64   \n",
       "499  500  Solaredge Technologies, Inc.   SEDG      0.01%   75.75  -0.77   \n",
       "500  501       Mohawk Industries, Inc.    MHK      0.01%   85.78   0.29   \n",
       "501  502       Fox Corporation Class B    FOX      0.01%   28.33   0.19   \n",
       "502  503      News Corporation Class B    NWS      0.01%   21.93  -0.04   \n",
       "\n",
       "        % Chg  \n",
       "0    (-0.44%)  \n",
       "1    (-1.39%)  \n",
       "2     (0.58%)  \n",
       "3    (-0.27%)  \n",
       "4    (-1.46%)  \n",
       "..        ...  \n",
       "498   (1.76%)  \n",
       "499  (-1.01%)  \n",
       "500   (0.34%)  \n",
       "501   (0.68%)  \n",
       "502  (-0.16%)  \n",
       "\n",
       "[503 rows x 7 columns]"
      ]
     },
     "execution_count": 28,
     "metadata": {},
     "output_type": "execute_result"
    }
   ],
   "source": [
    "df_sp500"
   ]
  },
  {
   "cell_type": "markdown",
   "metadata": {
    "id": "Hs3HuUDBci6b"
   },
   "source": [
    "The list has 503 symbols due to several companies with two share classes. For example, Google's parent company Alphabet has Class A (GOOGL) and Class C (GOOG) shares in the index."
   ]
  },
  {
   "cell_type": "code",
   "execution_count": 30,
   "metadata": {
    "executionInfo": {
     "elapsed": 630,
     "status": "ok",
     "timestamp": 1700234880030,
     "user": {
      "displayName": "Huijing Yang",
      "userId": "04973591626880246182"
     },
     "user_tz": 300
    },
    "id": "FIbc9-QksDAs"
   },
   "outputs": [],
   "source": [
    "# save the result in csv file\n",
    "path = \"/content/drive/My Drive/Quantitative-Project/Web Scraping in Python/sp500.csv\"\n",
    "with open(path, 'w', encoding='utf-8-sig') as f:\n",
    "    df_sp500.to_csv(f)"
   ]
  },
  {
   "cell_type": "code",
   "execution_count": 31,
   "metadata": {
    "colab": {
     "base_uri": "https://localhost:8080/"
    },
    "executionInfo": {
     "elapsed": 53,
     "status": "ok",
     "timestamp": 1700234883968,
     "user": {
      "displayName": "Huijing Yang",
      "userId": "04973591626880246182"
     },
     "user_tz": 300
    },
    "id": "FDf4VeVHonid",
    "outputId": "6721c15a-addf-42a9-8bda-b9d5d05bba51"
   },
   "outputs": [
    {
     "data": {
      "text/plain": [
       "503"
      ]
     },
     "execution_count": 31,
     "metadata": {},
     "output_type": "execute_result"
    }
   ],
   "source": [
    "# from DataFrame to SQL\n",
    "conn = sqlite3.connect('sp500_database')\n",
    "c = conn.cursor()\n",
    "c.execute('CREATE TABLE IF NOT EXISTS sp500 (Number number, Company text, Symbol text, Portfolio_perc number, Price number, Chg number, Chg_perc number)')\n",
    "conn.commit()\n",
    "df_sp500.to_sql('sp500', conn, if_exists='replace', index = False)\n"
   ]
  },
  {
   "cell_type": "code",
   "execution_count": 32,
   "metadata": {
    "colab": {
     "base_uri": "https://localhost:8080/"
    },
    "executionInfo": {
     "elapsed": 6,
     "status": "ok",
     "timestamp": 1700234886960,
     "user": {
      "displayName": "Huijing Yang",
      "userId": "04973591626880246182"
     },
     "user_tz": 300
    },
    "id": "KCeg0mKDpT4U",
    "outputId": "61ca7a16-9c54-4986-a70d-99984e071163"
   },
   "outputs": [
    {
     "name": "stdout",
     "output_type": "stream",
     "text": [
      "('1', 'Apple Inc.', 'AAPL', '7.30%', '188.88', '-0.83', '(-0.44%)')\n",
      "('2', 'Microsoft Corp', 'MSFT', '7.26%', '370.94', '-5.23', '(-1.39%)')\n",
      "('3', 'Amazon.com Inc', 'AMZN', '3.44%', '143.66', '0.83', '(0.58%)')\n",
      "('4', 'Nvidia Corp', 'NVDA', '3.19%', '493.48', '-1.32', '(-0.27%)')\n",
      "('5', 'Alphabet Inc. Class A', 'GOOGL', '2.11%', '134.93', '-2.00', '(-1.46%)')\n",
      "('6', 'Meta Platforms, Inc. Class A', 'META', '1.95%', '332.77', '-1.42', '(-0.43%)')\n",
      "('7', 'Alphabet Inc. Class C', 'GOOG', '1.82%', '136.59', '-2.11', '(-1.52%)')\n",
      "('8', 'Tesla, Inc.', 'TSLA', '1.77%', '231.04', '-2.55', '(-1.09%)')\n",
      "('9', 'Berkshire Hathaway Class B', 'BRK.B', '1.72%', '359.75', '-0.11', '(-0.03%)')\n",
      "('10', 'Unitedhealth Group Incorporated', 'UNH', '1.32%', '533.19', '-6.63', '(-1.23%)')\n"
     ]
    }
   ],
   "source": [
    "c.execute('''\n",
    "SELECT * FROM sp500\n",
    "LIMIT 10\n",
    "          ''')\n",
    "\n",
    "for row in c.fetchall():\n",
    "    print (row)"
   ]
  },
  {
   "cell_type": "markdown",
   "metadata": {
    "id": "iI0FZp7XS5iO"
   },
   "source": [
    "# Part III: SPX - S&P500 Index Historical Prices"
   ]
  },
  {
   "cell_type": "code",
   "execution_count": null,
   "metadata": {
    "id": "d8IayKcn7_ao"
   },
   "outputs": [],
   "source": [
    "# headers = {\"User-Agent\" : \"Mozilla/5.0 (Macintosh; Intel Mac OS X 10_15_7) Gecko/20100101 Firefox/45.0\"}\n",
    "# wsj_url = \"https://www.wsj.com/market-data/quotes/index/SPX/historical-prices\"\n",
    "# wsj_page = requests.get(wsj_url, allow_redirects = False, headers = headers).text\n",
    "# wsj_soup = BeautifulSoup(wsj_page, 'html.parser')"
   ]
  },
  {
   "cell_type": "code",
   "execution_count": 26,
   "metadata": {
    "executionInfo": {
     "elapsed": 204,
     "status": "ok",
     "timestamp": 1700193566237,
     "user": {
      "displayName": "Huijing Yang",
      "userId": "04973591626880246182"
     },
     "user_tz": 300
    },
    "id": "-R2Mbo0ISRfy"
   },
   "outputs": [],
   "source": [
    "wsj_url = \"https://www.wsj.com/market-data/quotes/index/SPX/historical-prices\"\n",
    "# browser = mechanicalsoup.Browser()\n",
    "browser = mechanicalsoup.StatefulBrowser()\n",
    "browser.set_user_agent(\"Mozilla/5.0 (Macintosh; Intel Mac OS X 10_15_7) Gecko/20100101 Firefox/45.0\")\n",
    "wsj_page = browser.get(wsj_url)\n",
    "wsj_soup = wsj_page.soup"
   ]
  },
  {
   "cell_type": "code",
   "execution_count": 27,
   "metadata": {
    "colab": {
     "base_uri": "https://localhost:8080/",
     "height": 35
    },
    "executionInfo": {
     "elapsed": 9,
     "status": "ok",
     "timestamp": 1700193568477,
     "user": {
      "displayName": "Huijing Yang",
      "userId": "04973591626880246182"
     },
     "user_tz": 300
    },
    "id": "cFeV47yqDx8p",
    "outputId": "e87ea951-a779-4ad3-fa5f-b581d0f19462"
   },
   "outputs": [
    {
     "data": {
      "application/vnd.google.colaboratory.intrinsic+json": {
       "type": "string"
      },
      "text/plain": [
       "'SPX | S&P 500 Index Historical Prices - WSJ'"
      ]
     },
     "execution_count": 27,
     "metadata": {},
     "output_type": "execute_result"
    }
   ],
   "source": [
    "wsj_soup.title.string"
   ]
  },
  {
   "cell_type": "code",
   "execution_count": 28,
   "metadata": {
    "colab": {
     "base_uri": "https://localhost:8080/"
    },
    "executionInfo": {
     "elapsed": 9,
     "status": "ok",
     "timestamp": 1700193572238,
     "user": {
      "displayName": "Huijing Yang",
      "userId": "04973591626880246182"
     },
     "user_tz": 300
    },
    "id": "G4QLvw3p97fb",
    "outputId": "ae7c5b6a-86ae-477f-a369-f818bfae0da2"
   },
   "outputs": [
    {
     "name": "stdout",
     "output_type": "stream",
     "text": [
      "['DATE', 'OPEN', 'HIGH', 'LOW', 'CLOSE']\n"
     ]
    }
   ],
   "source": [
    "# column names\n",
    "wsj_headers = wsj_soup.find_all(\"th\")\n",
    "wsj_header_col = []\n",
    "for i in range(len(wsj_headers)):\n",
    "    wsj_header_col.append(wsj_headers[i].string)\n",
    "print(wsj_header_col)"
   ]
  },
  {
   "cell_type": "code",
   "execution_count": 29,
   "metadata": {
    "executionInfo": {
     "elapsed": 5,
     "status": "ok",
     "timestamp": 1700193575851,
     "user": {
      "displayName": "Huijing Yang",
      "userId": "04973591626880246182"
     },
     "user_tz": 300
    },
    "id": "N8L3uhbxFKqZ"
   },
   "outputs": [],
   "source": [
    "df_SPX = pd.DataFrame(columns=wsj_header_col, index=pd.RangeIndex(start=0, stop=63, step=1))"
   ]
  },
  {
   "cell_type": "code",
   "execution_count": 34,
   "metadata": {
    "executionInfo": {
     "elapsed": 141,
     "status": "ok",
     "timestamp": 1700193845364,
     "user": {
      "displayName": "Huijing Yang",
      "userId": "04973591626880246182"
     },
     "user_tz": 300
    },
    "id": "jY48bMKREleO"
   },
   "outputs": [],
   "source": [
    "histPrice = wsj_soup.find_all(\"tr\")\n",
    "for i in range(1,len(histPrice)):\n",
    "    for j in range(len(wsj_headers)):\n",
    "        cell_value = histPrice[i].find_all(\"td\")[j].string\n",
    "        df_SPX.iloc[i-1, j] = cell_value\n",
    "# print(df_SPX)"
   ]
  },
  {
   "cell_type": "code",
   "execution_count": 35,
   "metadata": {
    "colab": {
     "base_uri": "https://localhost:8080/",
     "height": 424
    },
    "executionInfo": {
     "elapsed": 144,
     "status": "ok",
     "timestamp": 1700193852065,
     "user": {
      "displayName": "Huijing Yang",
      "userId": "04973591626880246182"
     },
     "user_tz": 300
    },
    "id": "Nn5q2JVZcy0-",
    "outputId": "fc54fd3c-9aac-414a-e46b-de385de3493e"
   },
   "outputs": [
    {
     "data": {
      "text/html": [
       "\n",
       "  <div id=\"df-de406199-4c7f-4457-b95a-69b0853cc393\" class=\"colab-df-container\">\n",
       "    <div>\n",
       "<style scoped>\n",
       "    .dataframe tbody tr th:only-of-type {\n",
       "        vertical-align: middle;\n",
       "    }\n",
       "\n",
       "    .dataframe tbody tr th {\n",
       "        vertical-align: top;\n",
       "    }\n",
       "\n",
       "    .dataframe thead th {\n",
       "        text-align: right;\n",
       "    }\n",
       "</style>\n",
       "<table border=\"1\" class=\"dataframe\">\n",
       "  <thead>\n",
       "    <tr style=\"text-align: right;\">\n",
       "      <th></th>\n",
       "      <th>DATE</th>\n",
       "      <th>OPEN</th>\n",
       "      <th>HIGH</th>\n",
       "      <th>LOW</th>\n",
       "      <th>CLOSE</th>\n",
       "    </tr>\n",
       "  </thead>\n",
       "  <tbody>\n",
       "    <tr>\n",
       "      <th>0</th>\n",
       "      <td>11/16/23</td>\n",
       "      <td>4497.08</td>\n",
       "      <td>4511.99</td>\n",
       "      <td>4487.83</td>\n",
       "      <td>4508.24</td>\n",
       "    </tr>\n",
       "    <tr>\n",
       "      <th>1</th>\n",
       "      <td>11/15/23</td>\n",
       "      <td>4505.30</td>\n",
       "      <td>4521.17</td>\n",
       "      <td>4495.31</td>\n",
       "      <td>4502.88</td>\n",
       "    </tr>\n",
       "    <tr>\n",
       "      <th>2</th>\n",
       "      <td>11/14/23</td>\n",
       "      <td>4458.97</td>\n",
       "      <td>4508.67</td>\n",
       "      <td>4458.97</td>\n",
       "      <td>4495.70</td>\n",
       "    </tr>\n",
       "    <tr>\n",
       "      <th>3</th>\n",
       "      <td>11/13/23</td>\n",
       "      <td>4406.66</td>\n",
       "      <td>4421.76</td>\n",
       "      <td>4393.82</td>\n",
       "      <td>4411.55</td>\n",
       "    </tr>\n",
       "    <tr>\n",
       "      <th>4</th>\n",
       "      <td>11/10/23</td>\n",
       "      <td>4364.15</td>\n",
       "      <td>4418.03</td>\n",
       "      <td>4353.34</td>\n",
       "      <td>4415.24</td>\n",
       "    </tr>\n",
       "    <tr>\n",
       "      <th>...</th>\n",
       "      <td>...</td>\n",
       "      <td>...</td>\n",
       "      <td>...</td>\n",
       "      <td>...</td>\n",
       "      <td>...</td>\n",
       "    </tr>\n",
       "    <tr>\n",
       "      <th>58</th>\n",
       "      <td>08/25/23</td>\n",
       "      <td>4389.38</td>\n",
       "      <td>4418.46</td>\n",
       "      <td>4356.29</td>\n",
       "      <td>4405.71</td>\n",
       "    </tr>\n",
       "    <tr>\n",
       "      <th>59</th>\n",
       "      <td>08/24/23</td>\n",
       "      <td>4455.16</td>\n",
       "      <td>4458.30</td>\n",
       "      <td>4375.55</td>\n",
       "      <td>4376.31</td>\n",
       "    </tr>\n",
       "    <tr>\n",
       "      <th>60</th>\n",
       "      <td>08/23/23</td>\n",
       "      <td>4396.44</td>\n",
       "      <td>4443.18</td>\n",
       "      <td>4396.44</td>\n",
       "      <td>4436.01</td>\n",
       "    </tr>\n",
       "    <tr>\n",
       "      <th>61</th>\n",
       "      <td>08/22/23</td>\n",
       "      <td>4415.33</td>\n",
       "      <td>4418.59</td>\n",
       "      <td>4382.77</td>\n",
       "      <td>4387.55</td>\n",
       "    </tr>\n",
       "    <tr>\n",
       "      <th>62</th>\n",
       "      <td>08/21/23</td>\n",
       "      <td>4380.28</td>\n",
       "      <td>4407.55</td>\n",
       "      <td>4360.30</td>\n",
       "      <td>4399.77</td>\n",
       "    </tr>\n",
       "  </tbody>\n",
       "</table>\n",
       "<p>63 rows × 5 columns</p>\n",
       "</div>\n",
       "    <div class=\"colab-df-buttons\">\n",
       "\n",
       "  <div class=\"colab-df-container\">\n",
       "    <button class=\"colab-df-convert\" onclick=\"convertToInteractive('df-de406199-4c7f-4457-b95a-69b0853cc393')\"\n",
       "            title=\"Convert this dataframe to an interactive table.\"\n",
       "            style=\"display:none;\">\n",
       "\n",
       "  <svg xmlns=\"http://www.w3.org/2000/svg\" height=\"24px\" viewBox=\"0 -960 960 960\">\n",
       "    <path d=\"M120-120v-720h720v720H120Zm60-500h600v-160H180v160Zm220 220h160v-160H400v160Zm0 220h160v-160H400v160ZM180-400h160v-160H180v160Zm440 0h160v-160H620v160ZM180-180h160v-160H180v160Zm440 0h160v-160H620v160Z\"/>\n",
       "  </svg>\n",
       "    </button>\n",
       "\n",
       "  <style>\n",
       "    .colab-df-container {\n",
       "      display:flex;\n",
       "      gap: 12px;\n",
       "    }\n",
       "\n",
       "    .colab-df-convert {\n",
       "      background-color: #E8F0FE;\n",
       "      border: none;\n",
       "      border-radius: 50%;\n",
       "      cursor: pointer;\n",
       "      display: none;\n",
       "      fill: #1967D2;\n",
       "      height: 32px;\n",
       "      padding: 0 0 0 0;\n",
       "      width: 32px;\n",
       "    }\n",
       "\n",
       "    .colab-df-convert:hover {\n",
       "      background-color: #E2EBFA;\n",
       "      box-shadow: 0px 1px 2px rgba(60, 64, 67, 0.3), 0px 1px 3px 1px rgba(60, 64, 67, 0.15);\n",
       "      fill: #174EA6;\n",
       "    }\n",
       "\n",
       "    .colab-df-buttons div {\n",
       "      margin-bottom: 4px;\n",
       "    }\n",
       "\n",
       "    [theme=dark] .colab-df-convert {\n",
       "      background-color: #3B4455;\n",
       "      fill: #D2E3FC;\n",
       "    }\n",
       "\n",
       "    [theme=dark] .colab-df-convert:hover {\n",
       "      background-color: #434B5C;\n",
       "      box-shadow: 0px 1px 3px 1px rgba(0, 0, 0, 0.15);\n",
       "      filter: drop-shadow(0px 1px 2px rgba(0, 0, 0, 0.3));\n",
       "      fill: #FFFFFF;\n",
       "    }\n",
       "  </style>\n",
       "\n",
       "    <script>\n",
       "      const buttonEl =\n",
       "        document.querySelector('#df-de406199-4c7f-4457-b95a-69b0853cc393 button.colab-df-convert');\n",
       "      buttonEl.style.display =\n",
       "        google.colab.kernel.accessAllowed ? 'block' : 'none';\n",
       "\n",
       "      async function convertToInteractive(key) {\n",
       "        const element = document.querySelector('#df-de406199-4c7f-4457-b95a-69b0853cc393');\n",
       "        const dataTable =\n",
       "          await google.colab.kernel.invokeFunction('convertToInteractive',\n",
       "                                                    [key], {});\n",
       "        if (!dataTable) return;\n",
       "\n",
       "        const docLinkHtml = 'Like what you see? Visit the ' +\n",
       "          '<a target=\"_blank\" href=https://colab.research.google.com/notebooks/data_table.ipynb>data table notebook</a>'\n",
       "          + ' to learn more about interactive tables.';\n",
       "        element.innerHTML = '';\n",
       "        dataTable['output_type'] = 'display_data';\n",
       "        await google.colab.output.renderOutput(dataTable, element);\n",
       "        const docLink = document.createElement('div');\n",
       "        docLink.innerHTML = docLinkHtml;\n",
       "        element.appendChild(docLink);\n",
       "      }\n",
       "    </script>\n",
       "  </div>\n",
       "\n",
       "\n",
       "<div id=\"df-824dd6e8-6eb4-4fd0-9680-ea88f19cb556\">\n",
       "  <button class=\"colab-df-quickchart\" onclick=\"quickchart('df-824dd6e8-6eb4-4fd0-9680-ea88f19cb556')\"\n",
       "            title=\"Suggest charts\"\n",
       "            style=\"display:none;\">\n",
       "\n",
       "<svg xmlns=\"http://www.w3.org/2000/svg\" height=\"24px\"viewBox=\"0 0 24 24\"\n",
       "     width=\"24px\">\n",
       "    <g>\n",
       "        <path d=\"M19 3H5c-1.1 0-2 .9-2 2v14c0 1.1.9 2 2 2h14c1.1 0 2-.9 2-2V5c0-1.1-.9-2-2-2zM9 17H7v-7h2v7zm4 0h-2V7h2v10zm4 0h-2v-4h2v4z\"/>\n",
       "    </g>\n",
       "</svg>\n",
       "  </button>\n",
       "\n",
       "<style>\n",
       "  .colab-df-quickchart {\n",
       "      --bg-color: #E8F0FE;\n",
       "      --fill-color: #1967D2;\n",
       "      --hover-bg-color: #E2EBFA;\n",
       "      --hover-fill-color: #174EA6;\n",
       "      --disabled-fill-color: #AAA;\n",
       "      --disabled-bg-color: #DDD;\n",
       "  }\n",
       "\n",
       "  [theme=dark] .colab-df-quickchart {\n",
       "      --bg-color: #3B4455;\n",
       "      --fill-color: #D2E3FC;\n",
       "      --hover-bg-color: #434B5C;\n",
       "      --hover-fill-color: #FFFFFF;\n",
       "      --disabled-bg-color: #3B4455;\n",
       "      --disabled-fill-color: #666;\n",
       "  }\n",
       "\n",
       "  .colab-df-quickchart {\n",
       "    background-color: var(--bg-color);\n",
       "    border: none;\n",
       "    border-radius: 50%;\n",
       "    cursor: pointer;\n",
       "    display: none;\n",
       "    fill: var(--fill-color);\n",
       "    height: 32px;\n",
       "    padding: 0;\n",
       "    width: 32px;\n",
       "  }\n",
       "\n",
       "  .colab-df-quickchart:hover {\n",
       "    background-color: var(--hover-bg-color);\n",
       "    box-shadow: 0 1px 2px rgba(60, 64, 67, 0.3), 0 1px 3px 1px rgba(60, 64, 67, 0.15);\n",
       "    fill: var(--button-hover-fill-color);\n",
       "  }\n",
       "\n",
       "  .colab-df-quickchart-complete:disabled,\n",
       "  .colab-df-quickchart-complete:disabled:hover {\n",
       "    background-color: var(--disabled-bg-color);\n",
       "    fill: var(--disabled-fill-color);\n",
       "    box-shadow: none;\n",
       "  }\n",
       "\n",
       "  .colab-df-spinner {\n",
       "    border: 2px solid var(--fill-color);\n",
       "    border-color: transparent;\n",
       "    border-bottom-color: var(--fill-color);\n",
       "    animation:\n",
       "      spin 1s steps(1) infinite;\n",
       "  }\n",
       "\n",
       "  @keyframes spin {\n",
       "    0% {\n",
       "      border-color: transparent;\n",
       "      border-bottom-color: var(--fill-color);\n",
       "      border-left-color: var(--fill-color);\n",
       "    }\n",
       "    20% {\n",
       "      border-color: transparent;\n",
       "      border-left-color: var(--fill-color);\n",
       "      border-top-color: var(--fill-color);\n",
       "    }\n",
       "    30% {\n",
       "      border-color: transparent;\n",
       "      border-left-color: var(--fill-color);\n",
       "      border-top-color: var(--fill-color);\n",
       "      border-right-color: var(--fill-color);\n",
       "    }\n",
       "    40% {\n",
       "      border-color: transparent;\n",
       "      border-right-color: var(--fill-color);\n",
       "      border-top-color: var(--fill-color);\n",
       "    }\n",
       "    60% {\n",
       "      border-color: transparent;\n",
       "      border-right-color: var(--fill-color);\n",
       "    }\n",
       "    80% {\n",
       "      border-color: transparent;\n",
       "      border-right-color: var(--fill-color);\n",
       "      border-bottom-color: var(--fill-color);\n",
       "    }\n",
       "    90% {\n",
       "      border-color: transparent;\n",
       "      border-bottom-color: var(--fill-color);\n",
       "    }\n",
       "  }\n",
       "</style>\n",
       "\n",
       "  <script>\n",
       "    async function quickchart(key) {\n",
       "      const quickchartButtonEl =\n",
       "        document.querySelector('#' + key + ' button');\n",
       "      quickchartButtonEl.disabled = true;  // To prevent multiple clicks.\n",
       "      quickchartButtonEl.classList.add('colab-df-spinner');\n",
       "      try {\n",
       "        const charts = await google.colab.kernel.invokeFunction(\n",
       "            'suggestCharts', [key], {});\n",
       "      } catch (error) {\n",
       "        console.error('Error during call to suggestCharts:', error);\n",
       "      }\n",
       "      quickchartButtonEl.classList.remove('colab-df-spinner');\n",
       "      quickchartButtonEl.classList.add('colab-df-quickchart-complete');\n",
       "    }\n",
       "    (() => {\n",
       "      let quickchartButtonEl =\n",
       "        document.querySelector('#df-824dd6e8-6eb4-4fd0-9680-ea88f19cb556 button');\n",
       "      quickchartButtonEl.style.display =\n",
       "        google.colab.kernel.accessAllowed ? 'block' : 'none';\n",
       "    })();\n",
       "  </script>\n",
       "</div>\n",
       "    </div>\n",
       "  </div>\n"
      ],
      "text/plain": [
       "        DATE     OPEN     HIGH      LOW    CLOSE\n",
       "0   11/16/23  4497.08  4511.99  4487.83  4508.24\n",
       "1   11/15/23  4505.30  4521.17  4495.31  4502.88\n",
       "2   11/14/23  4458.97  4508.67  4458.97  4495.70\n",
       "3   11/13/23  4406.66  4421.76  4393.82  4411.55\n",
       "4   11/10/23  4364.15  4418.03  4353.34  4415.24\n",
       "..       ...      ...      ...      ...      ...\n",
       "58  08/25/23  4389.38  4418.46  4356.29  4405.71\n",
       "59  08/24/23  4455.16  4458.30  4375.55  4376.31\n",
       "60  08/23/23  4396.44  4443.18  4396.44  4436.01\n",
       "61  08/22/23  4415.33  4418.59  4382.77  4387.55\n",
       "62  08/21/23  4380.28  4407.55  4360.30  4399.77\n",
       "\n",
       "[63 rows x 5 columns]"
      ]
     },
     "execution_count": 35,
     "metadata": {},
     "output_type": "execute_result"
    }
   ],
   "source": [
    "df_SPX"
   ]
  },
  {
   "cell_type": "code",
   "execution_count": 31,
   "metadata": {
    "executionInfo": {
     "elapsed": 369,
     "status": "ok",
     "timestamp": 1700193582674,
     "user": {
      "displayName": "Huijing Yang",
      "userId": "04973591626880246182"
     },
     "user_tz": 300
    },
    "id": "0bo7eneTn680"
   },
   "outputs": [],
   "source": [
    "# save the result in csv file\n",
    "path = \"/content/drive/My Drive/Quantitative-Project/Web Scraping in Python/wsj_SPX.csv\"\n",
    "with open(path, 'w', encoding='utf-8-sig') as f:\n",
    "    df_SPX.to_csv(f)"
   ]
  },
  {
   "cell_type": "code",
   "execution_count": 46,
   "metadata": {
    "colab": {
     "base_uri": "https://localhost:8080/"
    },
    "executionInfo": {
     "elapsed": 166,
     "status": "ok",
     "timestamp": 1700197220717,
     "user": {
      "displayName": "Huijing Yang",
      "userId": "04973591626880246182"
     },
     "user_tz": 300
    },
    "id": "n7hzSqD1pc5t",
    "outputId": "7247b6d3-f657-4e8f-cc1b-1fc2403581fc"
   },
   "outputs": [
    {
     "data": {
      "text/plain": [
       "63"
      ]
     },
     "execution_count": 46,
     "metadata": {},
     "output_type": "execute_result"
    }
   ],
   "source": [
    "# from DataFrame to SQL\n",
    "conn = sqlite3.connect('spx_database')\n",
    "c = conn.cursor()\n",
    "c.execute('CREATE TABLE IF NOT EXISTS spx (Date text, Open number, High number, Low number, Close number)')\n",
    "conn.commit()\n",
    "df_SPX.to_sql('spx', conn, if_exists='replace', index = False)"
   ]
  },
  {
   "cell_type": "code",
   "execution_count": 48,
   "metadata": {
    "colab": {
     "base_uri": "https://localhost:8080/"
    },
    "executionInfo": {
     "elapsed": 136,
     "status": "ok",
     "timestamp": 1700197256670,
     "user": {
      "displayName": "Huijing Yang",
      "userId": "04973591626880246182"
     },
     "user_tz": 300
    },
    "id": "3xe4Elwtpwqk",
    "outputId": "9f51bada-92b8-4fa2-d7ef-114cabd5ea1b"
   },
   "outputs": [
    {
     "name": "stdout",
     "output_type": "stream",
     "text": [
      "('11/16/23', '4497.08', '4511.99', '4487.83', '4508.24')\n",
      "('11/15/23', '4505.30', '4521.17', '4495.31', '4502.88')\n",
      "('11/14/23', '4458.97', '4508.67', '4458.97', '4495.70')\n",
      "('11/13/23', '4406.66', '4421.76', '4393.82', '4411.55')\n",
      "('11/10/23', '4364.15', '4418.03', '4353.34', '4415.24')\n",
      "('11/09/23', '4391.41', '4393.40', '4343.94', '4347.35')\n",
      "('11/08/23', '4384.37', '4391.20', '4359.76', '4382.78')\n",
      "('11/07/23', '4366.21', '4386.26', '4355.41', '4378.38')\n",
      "('11/06/23', '4364.27', '4372.21', '4347.53', '4365.98')\n",
      "('11/03/23', '4334.23', '4373.62', '4334.23', '4358.34')\n"
     ]
    }
   ],
   "source": [
    "c.execute('''\n",
    "SELECT * FROM spx\n",
    "LIMIT 10\n",
    "          ''')\n",
    "\n",
    "for row in c.fetchall():\n",
    "    print (row)"
   ]
  },
  {
   "cell_type": "markdown",
   "metadata": {
    "id": "LeZqLh9-TBXs"
   },
   "source": [
    "# Part IV: Summary\n",
    "\n",
    "***Challenges and How to Resolve them***\n",
    "\n",
    "1.   Unlike the tutorial website, real-world HTMLs are much more complicated and far less predictable.\n",
    "\n",
    "- Real-world HTML structures can be intricate and less consistent. Prioritize a flexible approach by dynamically adapting to the structure. Use tools like Selenium or Puppeteer for dynamic content.\n",
    "\n",
    "2.   Tutorial gives the basic foundation for web scraping but not mention any table scraping tips.\n",
    "\n",
    "- When scraping tables, identify relevant HTML elements such as `th` for headers and `tr` and `td` for rows. Utilize libraries like BeautifulSoup to streamline table data extraction.\n",
    "\n",
    "3.   When scraping Wall Street Journal and SlickCharts websites, a `403 Forbidden` status code was received, which means do not have access rights to the content.\n",
    "\n",
    "- Over come `403 Forbidden` errors by modifying the `User-Agent` in the request headers to mimic a browser. Use a user-agent string that resembles legitimate browser traffic\n",
    "\n",
    "4.   BeautifulSoup `string` method encounters difficulties in extracting numbers with leading white space like `/xa0`\n",
    "\n",
    "- Utilize the `get_text(strip=True)` method to extract the text by removing any leading or trailing whitespace.\n",
    "\n",
    "5.   Websites contain massive amounts of information.\n",
    "\n",
    "- Define specific goals for scraping and focus on extracting the most valuable information. Streamline the code to target the data relevant to objectives.\n",
    "\n",
    "***Summary of Results***\n",
    "\n",
    "1.   For this notebook, I extracted data from three main resources: FT1000 - Europe's fastest growing companies in 2023, SP500 Companies by Weight and SPX Historical Prices for the past quarter.\n",
    "\n",
    "2.   To enhance the original code, consider leveraging `mechanicalsoup.StatefulBrowser` instead of `mechanicalsoup.Browser` for extended functionality. Additionally, implement error handling using try-except blocks to ensure more robust code execution.\n",
    "\n",
    "\n"
   ]
  },
  {
   "cell_type": "code",
   "execution_count": null,
   "metadata": {
    "id": "ckzEWdPVR67u"
   },
   "outputs": [],
   "source": []
  }
 ],
 "metadata": {
  "colab": {
   "authorship_tag": "ABX9TyP9WXSN3cpvbQZAH5vgGEAq",
   "provenance": [],
   "toc_visible": true
  },
  "kernelspec": {
   "display_name": "Python 3",
   "language": "python",
   "name": "python3"
  },
  "language_info": {
   "codemirror_mode": {
    "name": "ipython",
    "version": 3
   },
   "file_extension": ".py",
   "mimetype": "text/x-python",
   "name": "python",
   "nbconvert_exporter": "python",
   "pygments_lexer": "ipython3",
   "version": "3.8.8"
  }
 },
 "nbformat": 4,
 "nbformat_minor": 1
}
